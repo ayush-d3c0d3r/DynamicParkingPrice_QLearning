{
  "nbformat": 4,
  "nbformat_minor": 0,
  "metadata": {
    "colab": {
      "provenance": []
    },
    "kernelspec": {
      "name": "python3",
      "display_name": "Python 3"
    },
    "language_info": {
      "name": "python"
    }
  },
  "cells": [
    {
      "cell_type": "code",
      "execution_count": null,
      "metadata": {
        "id": "L8CtV19h3jxx"
      },
      "outputs": [],
      "source": []
    },
    {
      "cell_type": "markdown",
      "source": [
        "**AUTHOR- Ayush Panda**\n",
        "\n",
        "This is an implemntation of :- https://www.sciencedirect.com/science/article/pii/S0957417423010345\n",
        "\n",
        "Karri Sowmya, Meera M. Dhabu,\n",
        "Model free Reinforcement Learning to determine pricing policy for car parking lots,"
      ],
      "metadata": {
        "id": "2dWUWQSmTXoh"
      }
    },
    {
      "cell_type": "markdown",
      "source": [
        "Importing Libraries and Defining Constants"
      ],
      "metadata": {
        "id": "W2i860Hi3lUG"
      }
    },
    {
      "cell_type": "code",
      "source": [
        "import numpy as np\n",
        "import matplotlib.pyplot as plt\n",
        "\n",
        "# Constants based on your problem\n",
        "learning_rate = 0.1\n",
        "discount_factor = 0.9\n",
        "exploration_prob = 0.1\n",
        "\n",
        "# Set of discrete parking prices (actions)\n",
        "actions = [10, 20, 30, 40, 50]\n",
        "\n",
        "# Number of discrete states (you may need to adjust this based on your problem)\n",
        "num_states = 100\n",
        "\n",
        "# Initialize Q-table\n",
        "Q = np.zeros((num_states, len(actions)))\n",
        "\n",
        "# Initialize parameters related to the parking business\n",
        "cp = 10  # Cost price of each parking slot\n",
        "fp = 30  # Fixed price of each parking slot\n",
        "et_values = [-0.26, -0.51, -0.43]  # Price Elasticity of Demand (PED) for different time slots\n",
        "pt = 0.6  # Percentage occupancy when static prices are used\n",
        "ot = 0.4  # Percentage occupancy when dynamic prices are used\n",
        "qt = 50  # Available parking slots (not occupied)\n",
        "wn = 'Clear'  # Weather condition (you can change this as needed)\n",
        "dn_weekday = 'Weekday'  # Type of the day for weekdays\n",
        "dn_weekend = 'Weekend'  # Type of the day for weekends/holidays\n"
      ],
      "metadata": {
        "id": "9kbr6pPJ3qQw"
      },
      "execution_count": 1,
      "outputs": []
    },
    {
      "cell_type": "markdown",
      "source": [
        "Reward Calculation and Dynamic Price Function\n",
        "\n",
        "These functions define how rewards and dynamic prices are calculated based on the problem's criteria.\n",
        " The calculate_reward function calculates the reward for a specific state and action, considering dynamic price and cost price.\n",
        "  The calculate_dynamic_price function computes the dynamic price based on occupancy, cost, and price elasticity of demand."
      ],
      "metadata": {
        "id": "293SEVvB3zOb"
      }
    },
    {
      "cell_type": "code",
      "source": [
        "# Function to calculate reward based on your problem's criteria\n",
        "def calculate_reward(s_t, a_t, q_t, dp_t, cp):\n",
        "    x = 1.0  # You need to calculate x based on your problem\n",
        "    y_t = 0.8  # Placeholder for demonstration, replace with your calculation\n",
        "\n",
        "    # Corrected the usage of q_t (state) for calculating the reward\n",
        "    reward = x * ((s_t * dp_t) - (s_t * cp)) + (1 - x) * (y_t * dp_t)\n",
        "    return reward\n",
        "\n",
        "# Function to calculate dynamic price based on given parameters\n",
        "def calculate_dynamic_price(cp, fp, et, pt, ot, qt, wn, dn):\n",
        "    # formula to adjust the price based on occupancy and cost\n",
        "    dynamic_price = cp + (fp - cp) * (1 - ot / qt) * (1 - et)  # Adjust as needed\n",
        "    return dynamic_price\n"
      ],
      "metadata": {
        "id": "tnQvN_Vd3_5G"
      },
      "execution_count": 2,
      "outputs": []
    },
    {
      "cell_type": "markdown",
      "source": [
        "**Q-learning Algorithm with Dynamic Price Calculation**\n",
        "\n",
        "his function q_learning_with_dynamic_price implements the Q-learning algorithm with dynamic price calculation. It iterates through episodes and time slots, updates Q-values, and stores dynamic prices based on weather conditions and time slots."
      ],
      "metadata": {
        "id": "_CSzn5ec4Hub"
      }
    },
    {
      "cell_type": "code",
      "source": [
        "# Modify the Q-learning algorithm with dynamic price calculation to use PED values for different time slots\n",
        "def q_learning_with_dynamic_price(num_episodes):\n",
        "    dynamic_prices_per_time_slot_weekday_clear = {t: [] for t in range(24)}\n",
        "    dynamic_prices_per_time_slot_weekday_rainy = {t: [] for t in range(24)}\n",
        "    dynamic_prices_per_time_slot_weekend_clear = {t: [] for t in range(24)}\n",
        "    dynamic_prices_per_time_slot_weekend_rainy = {t: [] for t in range(24)}\n",
        "\n",
        "    # Loop over episodes\n",
        "    for episode in range(num_episodes):\n",
        "        for t in range(24):  # Simulate for 24 time slots\n",
        "            # Determine whether it's a weekday or weekend based on the time slot\n",
        "            if 17 <= t <= 20:  # Peak hours during weekdays (5 pm to 8 pm)\n",
        "                dn = dn_weekday\n",
        "                et = et_values[2]\n",
        "            elif 12 <= t < 17:  # Off-peak hours during weekdays (1 pm to 5 pm)\n",
        "                dn = dn_weekday\n",
        "                et = et_values[1]\n",
        "            else:  # Late night hours during weekdays (12 am to 1 pm) and weekends (off-peak)\n",
        "                dn = dn_weekday if t < 12 else dn_weekend\n",
        "                et = et_values[0]\n",
        "\n",
        "            # Initialize state for this episode (randomly or based on your approach)\n",
        "            state = np.random.randint(0, num_states)  # Random initial state\n",
        "\n",
        "            done = False\n",
        "            while not done:\n",
        "                # Choose an action (epsilon-greedy strategy)\n",
        "                if np.random.uniform(0, 1) < exploration_prob:\n",
        "                    action = np.random.choice(actions)  # Random action\n",
        "                else:\n",
        "                    action = actions[np.argmax(Q[state, :])]  # Greedy action\n",
        "\n",
        "                # Calculate dynamic price based on the current state and other parameters\n",
        "                dynamic_price = calculate_dynamic_price(cp, action, et, pt, ot, qt, wn, dn)\n",
        "\n",
        "                # Store dynamic prices based on whether it's a weekday or weekend and the weather condition\n",
        "                if dn == dn_weekday:\n",
        "                    if wn == 'Clear':\n",
        "                        dynamic_prices_per_time_slot_weekday_clear[t].append(dynamic_price)\n",
        "                    elif wn == 'Rainy':\n",
        "                        dynamic_prices_per_time_slot_weekday_rainy[t].append(dynamic_price)\n",
        "                else:\n",
        "                    if wn == 'Clear':\n",
        "                        dynamic_prices_per_time_slot_weekend_clear[t].append(dynamic_price)\n",
        "                    elif wn == 'Rainy':\n",
        "                        dynamic_prices_per_time_slot_weekend_rainy[t].append(dynamic_price)\n",
        "\n",
        "                # Perform the action and observe the next state and reward\n",
        "                # For simplicity, we'll just use a placeholder for the next state and reward\n",
        "                next_state = np.random.randint(0, num_states)  # Placeholder for next state\n",
        "                reward = calculate_reward(state, action, qt, dynamic_price, cp)  # Use corrected arguments\n",
        "\n",
        "                # Update the Q-value using the Q-learning update rule\n",
        "                Q[state, actions.index(action)] = (1 - learning_rate) * Q[state, actions.index(action)] + \\\n",
        "                                                  learning_rate * (reward + discount_factor * np.max(Q[next_state, :]))\n",
        "\n",
        "                # Update the state for the next iteration\n",
        "                state = next_state\n",
        "\n",
        "                # Terminate the episode (you would implement your own termination logic)\n",
        "                # For demonstration purposes, we'll terminate after a fixed number of steps\n",
        "                if np.random.uniform(0, 1) < 0.2:\n",
        "                    done = True  # Terminate episode with 20% probability\n",
        "\n",
        "    # Return the dynamic prices for each time slot and weather condition\n",
        "    return (dynamic_prices_per_time_slot_weekday_clear, dynamic_prices_per_time_slot_weekday_rainy,\n",
        "            dynamic_prices_per_time_slot_weekend_clear, dynamic_prices_per_time_slot_weekend_rainy)\n"
      ],
      "metadata": {
        "id": "bXjKbM3K4c0X"
      },
      "execution_count": 3,
      "outputs": []
    },
    {
      "cell_type": "markdown",
      "source": [
        "**Running Q-learning and Printing Dynamic Prices**\n",
        "\n",
        "we run the Q-learning algorithm with dynamic price calculation using a specified number of episodes. After that, we print the dynamic prices for each time slot and different weather conditions (weekday clear, weekday rainy, weekend clear, weekend rainy)."
      ],
      "metadata": {
        "id": "DgrlfrT25hB_"
      }
    },
    {
      "cell_type": "code",
      "source": [
        "# Run the Q-learning algorithm with dynamic price calculation\n",
        "num_episodes = 1000  # Number of episodes\n",
        "(dynamic_prices_weekday_clear, dynamic_prices_weekday_rainy,\n",
        " dynamic_prices_weekend_clear, dynamic_prices_weekend_rainy) = q_learning_with_dynamic_price(num_episodes)\n",
        "\n",
        "# Print dynamic prices for each time slot and different weather conditions\n",
        "#print(\"Dynamic prices for each time slot on weekdays (Clear weather):\")\n",
        "#for t in range(24):\n",
        "    #if dynamic_prices_weekday_clear[t]:\n",
        "        #print(f\"Time slot {t}: {dynamic_prices_weekday_clear[t]}\")\n",
        "\n",
        "#print(\"\\nDynamic prices for each time slot on weekdays (Rainy weather):\")\n",
        "#for t in range(24):\n",
        "    #if dynamic_prices_weekday_rainy[t]:\n",
        "        #print(f\"Time slot {t}: {dynamic_prices_weekday_rainy[t]}\")\n",
        "\n",
        "#print(\"\\nDynamic prices for each time slot on weekends/holidays (Clear weather):\")\n",
        "#for t in range(24):\n",
        "    #if dynamic_prices_weekend_clear[t]:\n",
        "        #print(f\"Time slot {t}: {dynamic_prices_weekend_clear[t]}\")\n",
        "\n",
        "#print(\"\\nDynamic prices for each time slot on weekends/holidays (Rainy weather):\")\n",
        "#for t in range(24):\n",
        "    #if dynamic_prices_weekend_rainy[t]:\n",
        "        #print(f\"Time slot {t}: {dynamic_prices_weekend_rainy[t]}\")\n"
      ],
      "metadata": {
        "id": "UtYw0zT35dit"
      },
      "execution_count": 4,
      "outputs": []
    },
    {
      "cell_type": "markdown",
      "source": [
        "**Dynamic price for each time slot during weekdays (Clear weather) after the training.**\n",
        "\n",
        "\n",
        "\n",
        "Cost price (cp): 10\n",
        "Fixed price (fp): 30\n",
        "Price Elasticity of Demand (et) values: [-0.26, -0.51, -0.43] for different time slots\n",
        "Percentage occupancy when static prices are used (pt): 60%\n",
        "Percentage occupancy when dynamic prices are used (ot): 40%\n",
        "Available parking slots (qt): 50\n",
        "Weather condition (wn): 'Clear'\n",
        "Type of the day for weekdays (dn_weekday): 'Weekday'\n",
        "Type of the day for weekends/holidays (dn_weekend): 'Weekend'\n",
        "Now, let's calculate and print the dynamic price for the given conditions in the q_learning_with_dynamic_price function:"
      ],
      "metadata": {
        "id": "QQ-pSMeo8FFF"
      }
    },
    {
      "cell_type": "code",
      "source": [
        "\n",
        "\n",
        "# Print the final dynamic prices after training\n",
        "print(\"\\nFinal Dynamic Prices after Training (Clear weather):\")\n",
        "for t in range(24):\n",
        "    dynamic_price_clear = calculate_dynamic_price(cp, actions[np.argmax(Q[t, :])], et_values[2], pt, ot, qt, wn, dn_weekday)\n",
        "    print(f\"Time slot {t}: {dynamic_price_clear}\")\n"
      ],
      "metadata": {
        "colab": {
          "base_uri": "https://localhost:8080/"
        },
        "id": "U0TWoJ9V6Q3w",
        "outputId": "156dfa83-e3f1-4186-d963-a37bab16f9a9"
      },
      "execution_count": 5,
      "outputs": [
        {
          "output_type": "stream",
          "name": "stdout",
          "text": [
            "\n",
            "Final Dynamic Prices after Training (Clear weather):\n",
            "Time slot 0: 66.7424\n",
            "Time slot 1: 66.7424\n",
            "Time slot 2: 10.0\n",
            "Time slot 3: 38.3712\n",
            "Time slot 4: 10.0\n",
            "Time slot 5: 66.7424\n",
            "Time slot 6: 10.0\n",
            "Time slot 7: 24.1856\n",
            "Time slot 8: 10.0\n",
            "Time slot 9: 66.7424\n",
            "Time slot 10: 10.0\n",
            "Time slot 11: 66.7424\n",
            "Time slot 12: 10.0\n",
            "Time slot 13: 66.7424\n",
            "Time slot 14: 24.1856\n",
            "Time slot 15: 52.556799999999996\n",
            "Time slot 16: 66.7424\n",
            "Time slot 17: 10.0\n",
            "Time slot 18: 10.0\n",
            "Time slot 19: 52.556799999999996\n",
            "Time slot 20: 10.0\n",
            "Time slot 21: 10.0\n",
            "Time slot 22: 52.556799999999996\n",
            "Time slot 23: 10.0\n"
          ]
        }
      ]
    },
    {
      "cell_type": "markdown",
      "source": [
        "**Examples** Dynamic Prices after Training (Clear weather):\n",
        "Time slot 0: 10.0\n",
        "Time slot 1: 20.0\n",
        "Time slot 2: 30.0\n",
        "... (for all 24 time slots)\n",
        "Time slot 23: 50.0\n"
      ],
      "metadata": {
        "id": "FtkNRyj778Fm"
      }
    },
    {
      "cell_type": "markdown",
      "source": [
        "**Plot Between Average Dynamic Price vs Static Price**\n",
        "\n",
        "I have again taken q learning function to return average dynamic price"
      ],
      "metadata": {
        "id": "_LlsqB4Q7i9v"
      }
    },
    {
      "cell_type": "code",
      "source": [
        "\n",
        "def q_learning_with_dynamic_price(num_episodes):\n",
        "    dynamic_prices_per_time_slot_weekday_clear = {t: [] for t in range(24)}\n",
        "    average_dynamic_prices = []\n",
        "\n",
        "    for episode in range(num_episodes):\n",
        "        for t in range(24):  # Simulate for 24 time slots\n",
        "            if 17 <= t <= 20:  # Peak hours during weekdays (5 pm to 8 pm)\n",
        "                dn = dn_weekday\n",
        "                et = et_values[2]\n",
        "            elif 12 <= t < 17:  # Off-peak hours during weekdays (1 pm to 5 pm)\n",
        "                dn = dn_weekday\n",
        "                et = et_values[1]\n",
        "            else:  # Late night hours during weekdays (12 am to 1 pm) and weekends (off-peak)\n",
        "                dn = dn_weekday if t < 12 else dn_weekend\n",
        "                et = et_values[0]\n",
        "\n",
        "            # Calculate dynamic price for the given conditions\n",
        "            dynamic_price = calculate_dynamic_price(cp, fp, et, pt, ot, qt, wn, dn)\n",
        "\n",
        "            # Store dynamic prices based on whether it's a weekday and clear weather\n",
        "            if dn == dn_weekday and wn == 'Clear':\n",
        "                dynamic_prices_per_time_slot_weekday_clear[t].append(dynamic_price)\n",
        "\n",
        "            # Initialize state for this episode (randomly or based on your approach)\n",
        "            state = np.random.randint(0, num_states)  # Random initial state\n",
        "\n",
        "            done = False\n",
        "            while not done:\n",
        "                # Choose an action (epsilon-greedy strategy)\n",
        "                if np.random.uniform(0, 1) < exploration_prob:\n",
        "                    action = np.random.choice(actions)  # Random action\n",
        "                else:\n",
        "                    action = actions[np.argmax(Q[state, :])]  # Greedy action\n",
        "\n",
        "                # Calculate dynamic price based on the current state and other parameters\n",
        "                dynamic_price = calculate_dynamic_price(cp, action, et, pt, ot, qt, wn, dn)\n",
        "\n",
        "                # Perform the action and observe the next state and reward\n",
        "                # For simplicity, we'll just use a placeholder for the next state and reward\n",
        "                next_state = np.random.randint(0, num_states)  # Placeholder for next state\n",
        "                reward = calculate_reward(state, action, qt, dynamic_price, cp)  # Use corrected arguments\n",
        "\n",
        "                # Update the Q-value using the Q-learning update rule\n",
        "                Q[state, actions.index(action)] = (1 - learning_rate) * Q[state, actions.index(action)] + \\\n",
        "                                                  learning_rate * (reward + discount_factor * np.max(Q[next_state, :]))\n",
        "\n",
        "                # Update the state for the next iteration\n",
        "                state = next_state\n",
        "\n",
        "                # Terminate the episode (you would implement your own termination logic)\n",
        "                # For demonstration purposes, we'll terminate after a fixed number of steps\n",
        "                if np.random.uniform(0, 1) < 0.2:\n",
        "                    done = True  # Terminate episode with 20% probability\n",
        "\n",
        "    # Calculate the average dynamic price for each time slot\n",
        "    for t in range(24):\n",
        "        avg_dynamic_price = np.mean(dynamic_prices_per_time_slot_weekday_clear[t]) if dynamic_prices_per_time_slot_weekday_clear[t] else 0\n",
        "        average_dynamic_prices.append(avg_dynamic_price)\n",
        "\n",
        "    return average_dynamic_prices\n",
        "\n",
        "# Run the Q-learning algorithm with dynamic price calculation\n",
        "num_episodes = 1000  # Number of episodes\n",
        "average_dynamic_prices = q_learning_with_dynamic_price(num_episodes)\n",
        "\n",
        "# Calculate the static price of 15 for comparison\n",
        "static_price_15 = np.full(24, 20)\n",
        "\n",
        "# Plot the comparison\n",
        "import matplotlib.pyplot as plt\n",
        "\n",
        "time_slots = range(24)\n",
        "plt.plot(time_slots, average_dynamic_prices, label='Average Dynamic Price')\n",
        "plt.plot(time_slots, static_price_15, label='Static Price')\n",
        "plt.xlabel('Time Slot')\n",
        "plt.ylabel('Price')\n",
        "plt.legend()\n",
        "plt.title('Average Dynamic Price vs. Static Price')\n",
        "plt.show()\n"
      ],
      "metadata": {
        "colab": {
          "base_uri": "https://localhost:8080/",
          "height": 472
        },
        "id": "2pz28rhr4lwB",
        "outputId": "ff496edb-b404-43d5-f1b7-2b4756874247"
      },
      "execution_count": 6,
      "outputs": [
        {
          "output_type": "display_data",
          "data": {
            "text/plain": [
              "<Figure size 640x480 with 1 Axes>"
            ],
            "image/png": "[encoded data removed]"
          },
          "metadata": {}
        }
      ]
    },
    {
      "cell_type": "markdown",
      "source": [
        "**It's clear our revenue can be maximize the Revenue**\n",
        "Low price promotes heavy usage of Vehicle and High price decreases revenue model"
      ],
      "metadata": {
        "id": "QjRI35LZUzVd"
      }
    }
  ]
}